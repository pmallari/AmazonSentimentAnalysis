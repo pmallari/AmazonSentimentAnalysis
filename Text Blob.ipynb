{
 "cells": [
  {
   "cell_type": "markdown",
   "metadata": {},
   "source": [
    "# Text Blob\n",
    "\n",
    "Benchmark test using the Text Blob module for Sentiment analysis."
   ]
  },
  {
   "cell_type": "code",
   "execution_count": 1,
   "metadata": {},
   "outputs": [],
   "source": [
    "# Import necessary modules\n",
    "\n",
    "import numpy as np\n",
    "import pandas as pd\n",
    "\n",
    "from tqdm import tqdm_notebook\n",
    "from textblob import TextBlob\n",
    "\n",
    "from sklearn.model_selection import train_test_split"
   ]
  },
  {
   "cell_type": "code",
   "execution_count": 2,
   "metadata": {},
   "outputs": [
    {
     "data": {
      "text/html": [
       "<div>\n",
       "<style scoped>\n",
       "    .dataframe tbody tr th:only-of-type {\n",
       "        vertical-align: middle;\n",
       "    }\n",
       "\n",
       "    .dataframe tbody tr th {\n",
       "        vertical-align: top;\n",
       "    }\n",
       "\n",
       "    .dataframe thead th {\n",
       "        text-align: right;\n",
       "    }\n",
       "</style>\n",
       "<table border=\"1\" class=\"dataframe\">\n",
       "  <thead>\n",
       "    <tr style=\"text-align: right;\">\n",
       "      <th></th>\n",
       "      <th>Sentiment</th>\n",
       "      <th>Title</th>\n",
       "      <th>Content</th>\n",
       "    </tr>\n",
       "  </thead>\n",
       "  <tbody>\n",
       "    <tr>\n",
       "      <th>0</th>\n",
       "      <td>2</td>\n",
       "      <td>Right on the money</td>\n",
       "      <td>We are using the this book to get 100+ certifi...</td>\n",
       "    </tr>\n",
       "    <tr>\n",
       "      <th>1</th>\n",
       "      <td>2</td>\n",
       "      <td>Serves its Purpose!</td>\n",
       "      <td>Couldn't go without it. My 3 1/2 year still we...</td>\n",
       "    </tr>\n",
       "    <tr>\n",
       "      <th>2</th>\n",
       "      <td>2</td>\n",
       "      <td>Trailer Park Bwoys!!!</td>\n",
       "      <td>we get to see it on paramount in ol' LND UK an...</td>\n",
       "    </tr>\n",
       "    <tr>\n",
       "      <th>3</th>\n",
       "      <td>1</td>\n",
       "      <td>buyer beware</td>\n",
       "      <td>There are companies selling Bosch knock-offs o...</td>\n",
       "    </tr>\n",
       "    <tr>\n",
       "      <th>4</th>\n",
       "      <td>2</td>\n",
       "      <td>Great for those cold winters</td>\n",
       "      <td>If you are looking to keep your water liquifie...</td>\n",
       "    </tr>\n",
       "  </tbody>\n",
       "</table>\n",
       "</div>"
      ],
      "text/plain": [
       "   Sentiment                         Title  \\\n",
       "0          2            Right on the money   \n",
       "1          2           Serves its Purpose!   \n",
       "2          2         Trailer Park Bwoys!!!   \n",
       "3          1                  buyer beware   \n",
       "4          2  Great for those cold winters   \n",
       "\n",
       "                                             Content  \n",
       "0  We are using the this book to get 100+ certifi...  \n",
       "1  Couldn't go without it. My 3 1/2 year still we...  \n",
       "2  we get to see it on paramount in ol' LND UK an...  \n",
       "3  There are companies selling Bosch knock-offs o...  \n",
       "4  If you are looking to keep your water liquifie...  "
      ]
     },
     "execution_count": 2,
     "metadata": {},
     "output_type": "execute_result"
    }
   ],
   "source": [
    "# Import data\n",
    "\n",
    "df = pd.read_csv(\"data/amazon_reviews_small.csv\", names = ['Sentiment', 'Title', 'Content'])\n",
    "df.head()"
   ]
  },
  {
   "cell_type": "code",
   "execution_count": 3,
   "metadata": {},
   "outputs": [
    {
     "name": "stdout",
     "output_type": "stream",
     "text": [
      "<class 'pandas.core.frame.DataFrame'>\n",
      "RangeIndex: 100000 entries, 0 to 99999\n",
      "Data columns (total 3 columns):\n",
      "Sentiment    100000 non-null int64\n",
      "Title        99997 non-null object\n",
      "Content      100000 non-null object\n",
      "dtypes: int64(1), object(2)\n",
      "memory usage: 2.3+ MB\n"
     ]
    }
   ],
   "source": [
    "df.info()"
   ]
  },
  {
   "cell_type": "code",
   "execution_count": 4,
   "metadata": {},
   "outputs": [],
   "source": [
    "# For empty titles, we can replace it with a blank title\n",
    "df.Title.fillna(\" \", inplace = True)"
   ]
  },
  {
   "cell_type": "code",
   "execution_count": 5,
   "metadata": {},
   "outputs": [],
   "source": [
    "# Sentiment is categorized as 1 and 2 and we will change it to 0 and 1\n",
    "df.Sentiment = [int(a)-1 for a in df.Sentiment]"
   ]
  },
  {
   "cell_type": "markdown",
   "metadata": {},
   "source": [
    "Text Blob is a popular python library that can predict the sentiment of a text. For this benchmark test, we will use Text Blob as the benchmark for two NLP models that we will be training."
   ]
  },
  {
   "cell_type": "code",
   "execution_count": 6,
   "metadata": {},
   "outputs": [
    {
     "data": {
      "application/vnd.jupyter.widget-view+json": {
       "model_id": "cbc340cc6fcb488ca25301b3477980d0",
       "version_major": 2,
       "version_minor": 0
      },
      "text/plain": [
       "HBox(children=(IntProgress(value=0, max=100000), HTML(value='')))"
      ]
     },
     "metadata": {},
     "output_type": "display_data"
    },
    {
     "name": "stdout",
     "output_type": "stream",
     "text": [
      "\n"
     ]
    },
    {
     "data": {
      "application/vnd.jupyter.widget-view+json": {
       "model_id": "f697b59de67f4b66b16b19170fa216f2",
       "version_major": 2,
       "version_minor": 0
      },
      "text/plain": [
       "HBox(children=(IntProgress(value=0, max=100000), HTML(value='')))"
      ]
     },
     "metadata": {},
     "output_type": "display_data"
    },
    {
     "name": "stdout",
     "output_type": "stream",
     "text": [
      "\n"
     ]
    }
   ],
   "source": [
    "# Get the sentiment polarity of the title and the content\n",
    "df['Title_Sentiment'] = [TextBlob(title).sentiment[0] for title in tqdm_notebook(df.Title)]\n",
    "df['Content_Sentiment'] = [TextBlob(content).sentiment[0] for content in tqdm_notebook(df.Content)]"
   ]
  },
  {
   "cell_type": "code",
   "execution_count": 7,
   "metadata": {},
   "outputs": [],
   "source": [
    "# We will get the sum of the title and content sentiment scores\n",
    "df['Title_Content_Sent_Sum'] = df['Title_Sentiment'] + df['Content_Sentiment']"
   ]
  },
  {
   "cell_type": "code",
   "execution_count": 8,
   "metadata": {},
   "outputs": [
    {
     "data": {
      "text/html": [
       "<div>\n",
       "<style scoped>\n",
       "    .dataframe tbody tr th:only-of-type {\n",
       "        vertical-align: middle;\n",
       "    }\n",
       "\n",
       "    .dataframe tbody tr th {\n",
       "        vertical-align: top;\n",
       "    }\n",
       "\n",
       "    .dataframe thead th {\n",
       "        text-align: right;\n",
       "    }\n",
       "</style>\n",
       "<table border=\"1\" class=\"dataframe\">\n",
       "  <thead>\n",
       "    <tr style=\"text-align: right;\">\n",
       "      <th></th>\n",
       "      <th>Sentiment</th>\n",
       "      <th>Title</th>\n",
       "      <th>Content</th>\n",
       "      <th>Title_Sentiment</th>\n",
       "      <th>Content_Sentiment</th>\n",
       "      <th>Title_Content_Sent_Sum</th>\n",
       "    </tr>\n",
       "  </thead>\n",
       "  <tbody>\n",
       "    <tr>\n",
       "      <th>0</th>\n",
       "      <td>1</td>\n",
       "      <td>Right on the money</td>\n",
       "      <td>We are using the this book to get 100+ certifi...</td>\n",
       "      <td>0.285714</td>\n",
       "      <td>0.312500</td>\n",
       "      <td>0.598214</td>\n",
       "    </tr>\n",
       "    <tr>\n",
       "      <th>1</th>\n",
       "      <td>1</td>\n",
       "      <td>Serves its Purpose!</td>\n",
       "      <td>Couldn't go without it. My 3 1/2 year still we...</td>\n",
       "      <td>0.000000</td>\n",
       "      <td>0.424167</td>\n",
       "      <td>0.424167</td>\n",
       "    </tr>\n",
       "    <tr>\n",
       "      <th>2</th>\n",
       "      <td>1</td>\n",
       "      <td>Trailer Park Bwoys!!!</td>\n",
       "      <td>we get to see it on paramount in ol' LND UK an...</td>\n",
       "      <td>0.000000</td>\n",
       "      <td>0.607764</td>\n",
       "      <td>0.607764</td>\n",
       "    </tr>\n",
       "    <tr>\n",
       "      <th>3</th>\n",
       "      <td>0</td>\n",
       "      <td>buyer beware</td>\n",
       "      <td>There are companies selling Bosch knock-offs o...</td>\n",
       "      <td>0.000000</td>\n",
       "      <td>0.013889</td>\n",
       "      <td>0.013889</td>\n",
       "    </tr>\n",
       "    <tr>\n",
       "      <th>4</th>\n",
       "      <td>1</td>\n",
       "      <td>Great for those cold winters</td>\n",
       "      <td>If you are looking to keep your water liquifie...</td>\n",
       "      <td>0.100000</td>\n",
       "      <td>0.000000</td>\n",
       "      <td>0.100000</td>\n",
       "    </tr>\n",
       "  </tbody>\n",
       "</table>\n",
       "</div>"
      ],
      "text/plain": [
       "   Sentiment                         Title  \\\n",
       "0          1            Right on the money   \n",
       "1          1           Serves its Purpose!   \n",
       "2          1         Trailer Park Bwoys!!!   \n",
       "3          0                  buyer beware   \n",
       "4          1  Great for those cold winters   \n",
       "\n",
       "                                             Content  Title_Sentiment  \\\n",
       "0  We are using the this book to get 100+ certifi...         0.285714   \n",
       "1  Couldn't go without it. My 3 1/2 year still we...         0.000000   \n",
       "2  we get to see it on paramount in ol' LND UK an...         0.000000   \n",
       "3  There are companies selling Bosch knock-offs o...         0.000000   \n",
       "4  If you are looking to keep your water liquifie...         0.100000   \n",
       "\n",
       "   Content_Sentiment  Title_Content_Sent_Sum  \n",
       "0           0.312500                0.598214  \n",
       "1           0.424167                0.424167  \n",
       "2           0.607764                0.607764  \n",
       "3           0.013889                0.013889  \n",
       "4           0.000000                0.100000  "
      ]
     },
     "execution_count": 8,
     "metadata": {},
     "output_type": "execute_result"
    }
   ],
   "source": [
    "# Viewing our data\n",
    "df.head()"
   ]
  },
  {
   "cell_type": "code",
   "execution_count": 9,
   "metadata": {},
   "outputs": [
    {
     "data": {
      "text/html": [
       "<div>\n",
       "<style scoped>\n",
       "    .dataframe tbody tr th:only-of-type {\n",
       "        vertical-align: middle;\n",
       "    }\n",
       "\n",
       "    .dataframe tbody tr th {\n",
       "        vertical-align: top;\n",
       "    }\n",
       "\n",
       "    .dataframe thead th {\n",
       "        text-align: right;\n",
       "    }\n",
       "</style>\n",
       "<table border=\"1\" class=\"dataframe\">\n",
       "  <thead>\n",
       "    <tr style=\"text-align: right;\">\n",
       "      <th></th>\n",
       "      <th>Sentiment</th>\n",
       "      <th>Title</th>\n",
       "      <th>Content</th>\n",
       "      <th>Title_Sentiment</th>\n",
       "      <th>Content_Sentiment</th>\n",
       "      <th>Title_Content_Sent_Sum</th>\n",
       "      <th>Title_Pred</th>\n",
       "      <th>Content_Pred</th>\n",
       "      <th>Title_Content_Pred</th>\n",
       "    </tr>\n",
       "  </thead>\n",
       "  <tbody>\n",
       "    <tr>\n",
       "      <th>0</th>\n",
       "      <td>1</td>\n",
       "      <td>Right on the money</td>\n",
       "      <td>We are using the this book to get 100+ certifi...</td>\n",
       "      <td>0.285714</td>\n",
       "      <td>0.312500</td>\n",
       "      <td>0.598214</td>\n",
       "      <td>1</td>\n",
       "      <td>1</td>\n",
       "      <td>1</td>\n",
       "    </tr>\n",
       "    <tr>\n",
       "      <th>1</th>\n",
       "      <td>1</td>\n",
       "      <td>Serves its Purpose!</td>\n",
       "      <td>Couldn't go without it. My 3 1/2 year still we...</td>\n",
       "      <td>0.000000</td>\n",
       "      <td>0.424167</td>\n",
       "      <td>0.424167</td>\n",
       "      <td>1</td>\n",
       "      <td>1</td>\n",
       "      <td>1</td>\n",
       "    </tr>\n",
       "    <tr>\n",
       "      <th>2</th>\n",
       "      <td>1</td>\n",
       "      <td>Trailer Park Bwoys!!!</td>\n",
       "      <td>we get to see it on paramount in ol' LND UK an...</td>\n",
       "      <td>0.000000</td>\n",
       "      <td>0.607764</td>\n",
       "      <td>0.607764</td>\n",
       "      <td>1</td>\n",
       "      <td>1</td>\n",
       "      <td>1</td>\n",
       "    </tr>\n",
       "    <tr>\n",
       "      <th>3</th>\n",
       "      <td>0</td>\n",
       "      <td>buyer beware</td>\n",
       "      <td>There are companies selling Bosch knock-offs o...</td>\n",
       "      <td>0.000000</td>\n",
       "      <td>0.013889</td>\n",
       "      <td>0.013889</td>\n",
       "      <td>1</td>\n",
       "      <td>1</td>\n",
       "      <td>1</td>\n",
       "    </tr>\n",
       "    <tr>\n",
       "      <th>4</th>\n",
       "      <td>1</td>\n",
       "      <td>Great for those cold winters</td>\n",
       "      <td>If you are looking to keep your water liquifie...</td>\n",
       "      <td>0.100000</td>\n",
       "      <td>0.000000</td>\n",
       "      <td>0.100000</td>\n",
       "      <td>1</td>\n",
       "      <td>1</td>\n",
       "      <td>1</td>\n",
       "    </tr>\n",
       "  </tbody>\n",
       "</table>\n",
       "</div>"
      ],
      "text/plain": [
       "   Sentiment                         Title  \\\n",
       "0          1            Right on the money   \n",
       "1          1           Serves its Purpose!   \n",
       "2          1         Trailer Park Bwoys!!!   \n",
       "3          0                  buyer beware   \n",
       "4          1  Great for those cold winters   \n",
       "\n",
       "                                             Content  Title_Sentiment  \\\n",
       "0  We are using the this book to get 100+ certifi...         0.285714   \n",
       "1  Couldn't go without it. My 3 1/2 year still we...         0.000000   \n",
       "2  we get to see it on paramount in ol' LND UK an...         0.000000   \n",
       "3  There are companies selling Bosch knock-offs o...         0.000000   \n",
       "4  If you are looking to keep your water liquifie...         0.100000   \n",
       "\n",
       "   Content_Sentiment  Title_Content_Sent_Sum  Title_Pred  Content_Pred  \\\n",
       "0           0.312500                0.598214           1             1   \n",
       "1           0.424167                0.424167           1             1   \n",
       "2           0.607764                0.607764           1             1   \n",
       "3           0.013889                0.013889           1             1   \n",
       "4           0.000000                0.100000           1             1   \n",
       "\n",
       "   Title_Content_Pred  \n",
       "0                   1  \n",
       "1                   1  \n",
       "2                   1  \n",
       "3                   1  \n",
       "4                   1  "
      ]
     },
     "execution_count": 9,
     "metadata": {},
     "output_type": "execute_result"
    }
   ],
   "source": [
    "# We can predict the sentiment by getting all values greater than or equal to 0 as positive sentiment\n",
    "# and the values less than 0 as negative sentiment\n",
    "\n",
    "df['Title_Pred'] = [1 if a >= 0 else 0 for a in df['Title_Sentiment']]\n",
    "df['Content_Pred'] = [1 if a >= 0 else 0 for a in df['Content_Sentiment']]\n",
    "df['Title_Content_Pred'] = [1 if a >= 0 else 0 for a in df['Title_Content_Sent_Sum']]\n",
    "\n",
    "df.head()"
   ]
  },
  {
   "cell_type": "code",
   "execution_count": 10,
   "metadata": {},
   "outputs": [
    {
     "name": "stdout",
     "output_type": "stream",
     "text": [
      "Title Sentiment Score:\t\t0.64843\n",
      "Content Sentiment Score:\t0.6552\n",
      "Summed Sentiment Score:\t\t0.71667\n"
     ]
    }
   ],
   "source": [
    "# Getting the score of the sentiment analysis on all 3 combinations\n",
    "\n",
    "print(f\"Title Sentiment Score:\\t\\t{sum((df['Sentiment'] == df['Title_Pred']).values)/len(df)}\")\n",
    "print(f\"Content Sentiment Score:\\t{sum((df['Sentiment'] == df['Content_Pred']).values)/len(df)}\")\n",
    "print(f\"Summed Sentiment Score:\\t\\t{sum((df['Sentiment'] == df['Title_Content_Pred']).values)/len(df)}\")"
   ]
  },
  {
   "cell_type": "markdown",
   "metadata": {},
   "source": [
    "The sentiment analysis scored best when we summed up the sentiment polarities of the title and the content with 71.67%"
   ]
  },
  {
   "cell_type": "code",
   "execution_count": null,
   "metadata": {},
   "outputs": [],
   "source": []
  }
 ],
 "metadata": {
  "kernelspec": {
   "display_name": "Python 3",
   "language": "python",
   "name": "python3"
  },
  "language_info": {
   "codemirror_mode": {
    "name": "ipython",
    "version": 3
   },
   "file_extension": ".py",
   "mimetype": "text/x-python",
   "name": "python",
   "nbconvert_exporter": "python",
   "pygments_lexer": "ipython3",
   "version": "3.6.7"
  }
 },
 "nbformat": 4,
 "nbformat_minor": 2
}
